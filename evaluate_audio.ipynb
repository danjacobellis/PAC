{
 "cells": [
  {
   "cell_type": "code",
   "execution_count": 40,
   "id": "b08b213f-5da6-48b2-b0a2-d75998f5e5e9",
   "metadata": {},
   "outputs": [],
   "source": [
    "from datasets import load_dataset\n",
    "from io import BytesIO\n",
    "import torch\n",
    "import torchaudio\n",
    "from spauq.core.metrics import spauq_eval"
   ]
  },
  {
   "cell_type": "code",
   "execution_count": 2,
   "id": "17bb9b35-475c-4efc-a1c7-8f7785abd3b2",
   "metadata": {},
   "outputs": [
    {
     "data": {
      "application/vnd.jupyter.widget-view+json": {
       "model_id": "9f23083eb39e44979bf2c5e9ea9c02d5",
       "version_major": 2,
       "version_minor": 0
      },
      "text/plain": [
       "Resolving data files:   0%|          | 0/32 [00:00<?, ?it/s]"
      ]
     },
     "metadata": {},
     "output_type": "display_data"
    },
    {
     "data": {
      "application/vnd.jupyter.widget-view+json": {
       "model_id": "b91c4a01658840ea996c26d1acf94274",
       "version_major": 2,
       "version_minor": 0
      },
      "text/plain": [
       "Resolving data files:   0%|          | 0/32 [00:00<?, ?it/s]"
      ]
     },
     "metadata": {},
     "output_type": "display_data"
    }
   ],
   "source": [
    "dataset = load_dataset(\"danjacobellis/aria_ea_audio_preprocessed\",split='validation').with_format(\"torch\")"
   ]
  },
  {
   "cell_type": "code",
   "execution_count": 3,
   "id": "cd280985-2644-4ca7-9611-27f8747ad4e8",
   "metadata": {},
   "outputs": [],
   "source": [
    "sample = dataset[0]\n",
    "audio = sample['audio'].permute(1,0)"
   ]
  },
  {
   "cell_type": "code",
   "execution_count": 51,
   "id": "8c3acf2b-990d-48e5-967f-0bd59c0d2e5b",
   "metadata": {},
   "outputs": [],
   "source": [
    "def mp3_compress(audio,fs,qscale=9):\n",
    "    config = torchaudio.io.CodecConfig(qscale=qscale)\n",
    "    size_bytes = []\n",
    "    recovered = []\n",
    "    for channel in audio:\n",
    "        with BytesIO() as f:\n",
    "            torchaudio.save(f, channel.unsqueeze(0), format=\"mp3\", sample_rate=fs, compression=config)\n",
    "            size_bytes.append(len(f.getvalue()))\n",
    "            f.seek(0)\n",
    "            recovered.append(torchaudio.load(f,format=\"mp3\")[0])\n",
    "    recovered = torch.cat(recovered)\n",
    "    return recovered, size_bytes"
   ]
  },
  {
   "cell_type": "code",
   "execution_count": 52,
   "id": "17ed5f46-d8e4-4de8-9a55-47af1676e99e",
   "metadata": {},
   "outputs": [],
   "source": [
    "rec, size = mp3_compress(audio,48000)"
   ]
  },
  {
   "cell_type": "code",
   "execution_count": 55,
   "id": "365e0d1e-2bbe-4e04-bf61-6feea719a849",
   "metadata": {},
   "outputs": [
    {
     "name": "stderr",
     "output_type": "stream",
     "text": [
      "/home/dgj335/.local/lib/python3.10/site-packages/spauq/core/preprocessing.py:325: UserWarning: No forgive_mode specified, defaulting to `none`\n",
      "  warnings.warn(\n"
     ]
    }
   ],
   "source": [
    "eval_output = spauq_eval(reference=audio,estimate=rec,fs=48000)"
   ]
  },
  {
   "cell_type": "code",
   "execution_count": 56,
   "id": "6d64956f-45d9-4ff0-83c5-552d9400c6e8",
   "metadata": {},
   "outputs": [
    {
     "data": {
      "text/plain": [
       "{'SSR': 20.46714262671256, 'SRR': 9.419561357341836}"
      ]
     },
     "execution_count": 56,
     "metadata": {},
     "output_type": "execute_result"
    }
   ],
   "source": [
    "eval_output"
   ]
  }
 ],
 "metadata": {
  "kernelspec": {
   "display_name": "Python 3 (ipykernel)",
   "language": "python",
   "name": "python3"
  },
  "language_info": {
   "codemirror_mode": {
    "name": "ipython",
    "version": 3
   },
   "file_extension": ".py",
   "mimetype": "text/x-python",
   "name": "python",
   "nbconvert_exporter": "python",
   "pygments_lexer": "ipython3",
   "version": "3.10.12"
  }
 },
 "nbformat": 4,
 "nbformat_minor": 5
}
