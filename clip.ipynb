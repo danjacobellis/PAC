{
 "cells": [
  {
   "cell_type": "code",
   "execution_count": 1,
   "id": "495d367f-ec8f-4757-9fd6-ef8c78b43740",
   "metadata": {},
   "outputs": [],
   "source": [
    "from PIL import Image\n",
    "from datasets import load_dataset\n",
    "from transformers import CLIPProcessor, CLIPModel\n",
    "import numpy as np\n",
    "import torch"
   ]
  },
  {
   "cell_type": "code",
   "execution_count": 2,
   "id": "170cf7fc-3244-49d0-96a9-5191b634498e",
   "metadata": {},
   "outputs": [
    {
     "data": {
      "application/vnd.jupyter.widget-view+json": {
       "model_id": "163a304bc3a446e3b922c7bdc3dba7f8",
       "version_major": 2,
       "version_minor": 0
      },
      "text/plain": [
       "Resolving data files:   0%|          | 0/70 [00:00<?, ?it/s]"
      ]
     },
     "metadata": {},
     "output_type": "display_data"
    },
    {
     "data": {
      "application/vnd.jupyter.widget-view+json": {
       "model_id": "0ac3a1db28b74fb9a5e9bb4462abed50",
       "version_major": 2,
       "version_minor": 0
      },
      "text/plain": [
       "Resolving data files:   0%|          | 0/18 [00:00<?, ?it/s]"
      ]
     },
     "metadata": {},
     "output_type": "display_data"
    },
    {
     "data": {
      "application/vnd.jupyter.widget-view+json": {
       "model_id": "07bc427d7cac46d3980cb5fcd0714418",
       "version_major": 2,
       "version_minor": 0
      },
      "text/plain": [
       "Resolving data files:   0%|          | 0/70 [00:00<?, ?it/s]"
      ]
     },
     "metadata": {},
     "output_type": "display_data"
    },
    {
     "data": {
      "application/vnd.jupyter.widget-view+json": {
       "model_id": "089ab820552f4ac581ab5f1481608e29",
       "version_major": 2,
       "version_minor": 0
      },
      "text/plain": [
       "Resolving data files:   0%|          | 0/18 [00:00<?, ?it/s]"
      ]
     },
     "metadata": {},
     "output_type": "display_data"
    },
    {
     "data": {
      "application/vnd.jupyter.widget-view+json": {
       "model_id": "14eb6e8bc41b42a1a345152b2cac04cc",
       "version_major": 2,
       "version_minor": 0
      },
      "text/plain": [
       "Loading dataset shards:   0%|          | 0/18 [00:00<?, ?it/s]"
      ]
     },
     "metadata": {},
     "output_type": "display_data"
    }
   ],
   "source": [
    "model = CLIPModel.from_pretrained(\"openai/clip-vit-large-patch14\").cuda()\n",
    "processor = CLIPProcessor.from_pretrained(\"openai/clip-vit-large-patch14\")\n",
    "valid_dataset = load_dataset(\"danjacobellis/aria_ea_rgb_100k\",split=\"validation\")"
   ]
  },
  {
   "cell_type": "code",
   "execution_count": 3,
   "id": "1c94fad0-3b3c-408d-895d-166a225c2817",
   "metadata": {},
   "outputs": [],
   "source": [
    "classes = [\n",
    "    \"kitchen\",\n",
    "    \"cooking\",\n",
    "    \"food\",\n",
    "    \"drink\",\n",
    "    \"spill\",\n",
    "    \"table\",\n",
    "    \"television\",\n",
    "    \"phone\",\n",
    "    \"laptop\",\n",
    "    \"video game\",\n",
    "    \"board game\",\n",
    "    \"clothes\",\n",
    "    \"laundry\",\n",
    "]"
   ]
  },
  {
   "cell_type": "code",
   "execution_count": 4,
   "id": "3829a0be-05f0-44c9-9b3a-d6390a5ae9ac",
   "metadata": {},
   "outputs": [],
   "source": [
    "def get_clip(sample):\n",
    "    with torch.no_grad():\n",
    "        image = sample['image']\n",
    "        inputs = processor(text=classes, images=image, return_tensors=\"pt\", padding=True)\n",
    "        for k in inputs.keys():\n",
    "            if hasattr(inputs[k], \"device\"):\n",
    "                inputs[k] = inputs[k].cuda()\n",
    "        outputs = model(**inputs)\n",
    "        sample['clip_logit'] = outputs.logits_per_image\n",
    "        return sample"
   ]
  },
  {
   "cell_type": "code",
   "execution_count": null,
   "id": "2295e257-489f-4f29-8d3b-ed9aae1001f5",
   "metadata": {},
   "outputs": [
    {
     "data": {
      "application/vnd.jupyter.widget-view+json": {
       "model_id": "5cfa98f859da459d8338cba685c29b8a",
       "version_major": 2,
       "version_minor": 0
      },
      "text/plain": [
       "Map:   0%|          | 0/20000 [00:00<?, ? examples/s]"
      ]
     },
     "metadata": {},
     "output_type": "display_data"
    }
   ],
   "source": [
    "clip_dataset = valid_dataset.map(get_clip,writer_batch_size=256);"
   ]
  }
 ],
 "metadata": {
  "kernelspec": {
   "display_name": "Python 3 (ipykernel)",
   "language": "python",
   "name": "python3"
  },
  "language_info": {
   "codemirror_mode": {
    "name": "ipython",
    "version": 3
   },
   "file_extension": ".py",
   "mimetype": "text/x-python",
   "name": "python",
   "nbconvert_exporter": "python",
   "pygments_lexer": "ipython3",
   "version": "3.10.12"
  }
 },
 "nbformat": 4,
 "nbformat_minor": 5
}
