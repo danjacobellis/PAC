{
 "cells": [
  {
   "cell_type": "code",
   "execution_count": 1,
   "id": "e38ce16e-d91d-45e3-b891-7bcdfa0e45a5",
   "metadata": {},
   "outputs": [],
   "source": [
    "import os\n",
    "from glob import glob\n",
    "from pyvrs import SyncVRSReader"
   ]
  },
  {
   "cell_type": "code",
   "execution_count": 2,
   "id": "c58818b6-396f-4f75-a87b-606c5e1548d9",
   "metadata": {},
   "outputs": [],
   "source": [
    "base_dir = \"aea_main\"\n",
    "output_base_dir = \"aea_main_rgb\"\n",
    "os.makedirs(output_base_dir, exist_ok=True)\n",
    "vrs_files = glob(os.path.join(base_dir, '*/recording.vrs'))"
   ]
  },
  {
   "cell_type": "code",
   "execution_count": null,
   "id": "164d614e-1cb2-4a15-9ae7-030610692aa3",
   "metadata": {},
   "outputs": [],
   "source": [
    "for vrs_file in vrs_files:\n",
    "    sequence_name = os.path.basename(os.path.dirname(vrs_file))\n",
    "    output_dir = os.path.join(output_base_dir, sequence_name)\n",
    "    os.makedirs(output_dir, exist_ok=True)\n",
    "\n",
    "    reader = SyncVRSReader(vrs_file)\n",
    "    stream_id = '214-1'\n",
    "    last_unique_timestamp = None\n",
    "    record_index = 0\n",
    "    image_count = 0\n",
    "\n",
    "    while True:\n",
    "        record = reader.read_next_record(stream_id, 'data', record_index)\n",
    "        if record is None:\n",
    "            break  # End of data stream\n",
    "\n",
    "        current_timestamp = record.timestamp\n",
    "        if current_timestamp == last_unique_timestamp:\n",
    "            # This is a duplicate timestamp; skip to the next record\n",
    "            record_index += 1\n",
    "            continue\n",
    "\n",
    "        # New unique timestamp found; update tracking variable\n",
    "        last_unique_timestamp = current_timestamp\n",
    "\n",
    "        # Process the record's image data\n",
    "        image_blocks = record.image_blocks\n",
    "        if image_blocks:\n",
    "            output_file_path = os.path.join(output_dir, f\"{sequence_name}_image_{image_count:06}.jpg\")\n",
    "            with open(output_file_path, 'wb') as f:\n",
    "                image_blocks[0].tofile(f)  # Assuming the first block is the target\n",
    "            image_count += 1\n",
    "\n",
    "        record_index += 1\n",
    "\n",
    "    print(f\"Completed processing {sequence_name}, total unique images: {image_count}.\")"
   ]
  }
 ],
 "metadata": {
  "kernelspec": {
   "display_name": "Python 3 (ipykernel)",
   "language": "python",
   "name": "python3"
  },
  "language_info": {
   "codemirror_mode": {
    "name": "ipython",
    "version": 3
   },
   "file_extension": ".py",
   "mimetype": "text/x-python",
   "name": "python",
   "nbconvert_exporter": "python",
   "pygments_lexer": "ipython3",
   "version": "3.10.12"
  }
 },
 "nbformat": 4,
 "nbformat_minor": 5
}
