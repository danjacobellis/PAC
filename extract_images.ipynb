{
 "cells": [
  {
   "cell_type": "code",
   "execution_count": 1,
   "id": "e38ce16e-d91d-45e3-b891-7bcdfa0e45a5",
   "metadata": {},
   "outputs": [],
   "source": [
    "import os\n",
    "from glob import glob\n",
    "from pyvrs import SyncVRSReader"
   ]
  },
  {
   "cell_type": "code",
   "execution_count": 2,
   "id": "c58818b6-396f-4f75-a87b-606c5e1548d9",
   "metadata": {},
   "outputs": [],
   "source": [
    "base_dir = \"aea_main\"\n",
    "output_base_dir = \"aea_main_rgb\"\n",
    "os.makedirs(output_base_dir, exist_ok=True)\n",
    "vrs_files = glob(os.path.join(base_dir, '*/recording.vrs'))"
   ]
  },
  {
   "cell_type": "code",
   "execution_count": 3,
   "id": "164d614e-1cb2-4a15-9ae7-030610692aa3",
   "metadata": {},
   "outputs": [
    {
     "name": "stdout",
     "output_type": "stream",
     "text": [
      "There are no record for 214-1 after 1016419\n",
      "Completed processing loc3_script4_seq4_rec1, total unique images: 10569.\n",
      "There are no record for 214-1 after 209697\n",
      "Completed processing loc4_script1_seq3_rec1, total unique images: 2173.\n",
      "There are no record for 214-1 after 253396\n",
      "Completed processing loc4_script2_seq7_rec1, total unique images: 2585.\n",
      "There are no record for 214-1 after 511492\n",
      "Completed processing loc5_script5_seq7_rec1, total unique images: 5298.\n",
      "There are no record for 214-1 after 256930\n",
      "Completed processing loc3_script2_seq5_rec1, total unique images: 2629.\n",
      "There are no record for 214-1 after 274869\n",
      "Completed processing loc3_script5_seq7_rec1, total unique images: 2858.\n",
      "There are no record for 214-1 after 501802\n",
      "Completed processing loc2_script2_seq5_rec2, total unique images: 5135.\n",
      "There are no record for 214-1 after 231215\n",
      "Completed processing loc1_script1_seq5_rec1, total unique images: 2408.\n",
      "There are no record for 214-1 after 223998\n",
      "Completed processing loc3_script2_seq4_rec2, total unique images: 2292.\n",
      "There are no record for 214-1 after 183012\n",
      "Completed processing loc3_script1_seq6_rec1, total unique images: 1903.\n",
      "There are no record for 214-1 after 129602\n",
      "Completed processing loc4_script3_seq1_rec2, total unique images: 1322.\n",
      "There are no record for 214-1 after 185161\n",
      "Completed processing loc2_script2_seq8_rec2, total unique images: 1890.\n",
      "There are no record for 214-1 after 392938\n",
      "Completed processing loc2_script1_seq1_rec1, total unique images: 4086.\n",
      "There are no record for 214-1 after 88999\n",
      "Completed processing loc4_script2_seq6_rec1, total unique images: 908.\n",
      "There are no record for 214-1 after 496609\n",
      "Completed processing loc1_script1_seq7_rec1, total unique images: 5172.\n",
      "There are no record for 214-1 after 444790\n",
      "Completed processing loc2_script4_seq3_rec1, total unique images: 4622.\n",
      "There are no record for 214-1 after 369604\n",
      "Completed processing loc3_script2_seq3_rec2, total unique images: 3782.\n",
      "There are no record for 214-1 after 373168\n",
      "Completed processing loc3_script3_seq5_rec2, total unique images: 3821.\n",
      "There are no record for 214-1 after 197772\n",
      "Completed processing loc1_script2_seq8_rec2, total unique images: 2024.\n",
      "There are no record for 214-1 after 517458\n",
      "Completed processing loc1_script4_seq2_rec1, total unique images: 5375.\n",
      "There are no record for 214-1 after 550194\n",
      "Completed processing loc3_script3_seq4_rec1, total unique images: 5634.\n",
      "There are no record for 214-1 after 339553\n",
      "Completed processing loc3_script3_seq2_rec2, total unique images: 3477.\n",
      "There are no record for 214-1 after 724033\n",
      "Completed processing loc1_script1_seq3_rec1, total unique images: 7541.\n",
      "There are no record for 214-1 after 123993\n",
      "Completed processing loc3_script3_seq1_rec1, total unique images: 1268.\n",
      "There are no record for 214-1 after 382660\n",
      "Completed processing loc1_script2_seq3_rec2, total unique images: 3916.\n",
      "There are no record for 214-1 after 520342\n",
      "Completed processing loc1_script2_seq7_rec1, total unique images: 5325.\n",
      "There are no record for 214-1 after 199910\n",
      "Completed processing loc2_script2_seq4_rec1, total unique images: 2041.\n",
      "There are no record for 214-1 after 185712\n",
      "Completed processing loc1_script2_seq8_rec1, total unique images: 1888.\n",
      "There are no record for 214-1 after 261767\n",
      "Completed processing loc2_script2_seq1_rec2, total unique images: 2678.\n",
      "There are no record for 214-1 after 243809\n",
      "Completed processing loc5_script5_seq1_rec1, total unique images: 2525.\n",
      "There are no record for 214-1 after 54677\n",
      "Completed processing loc2_script5_seq4_rec1, total unique images: 569.\n",
      "There are no record for 214-1 after 208580\n",
      "Completed processing loc2_script2_seq2_rec1, total unique images: 2129.\n",
      "There are no record for 214-1 after 306446\n",
      "Completed processing loc4_script5_seq3_rec1, total unique images: 3184.\n",
      "There are no record for 214-1 after 130812\n",
      "Completed processing loc2_script5_seq3_rec1, total unique images: 1361.\n",
      "There are no record for 214-1 after 409101\n",
      "Completed processing loc1_script2_seq4_rec2, total unique images: 4190.\n",
      "There are no record for 214-1 after 207698\n",
      "Completed processing loc2_script2_seq2_rec2, total unique images: 2125.\n",
      "There are no record for 214-1 after 901186\n",
      "Completed processing loc1_script4_seq4_rec1, total unique images: 9362.\n",
      "There are no record for 214-1 after 310707\n",
      "Completed processing loc2_script1_seq2_rec1, total unique images: 3231.\n",
      "There are no record for 214-1 after 371369\n",
      "Completed processing loc3_script2_seq3_rec1, total unique images: 3799.\n",
      "There are no record for 214-1 after 496792\n",
      "Completed processing loc2_script3_seq4_rec2, total unique images: 5089.\n",
      "There are no record for 214-1 after 222117\n",
      "Completed processing loc3_script2_seq1_rec2, total unique images: 2272.\n",
      "There are no record for 214-1 after 501236\n",
      "Completed processing loc2_script2_seq5_rec1, total unique images: 5117.\n",
      "There are no record for 214-1 after 696619\n",
      "Completed processing loc1_script3_seq5_rec1, total unique images: 7136.\n",
      "There are no record for 214-1 after 269399\n",
      "Completed processing loc3_script5_seq5_rec1, total unique images: 2801.\n",
      "There are no record for 214-1 after 268394\n",
      "Completed processing loc2_script5_seq7_rec1, total unique images: 2792.\n",
      "There are no record for 214-1 after 327756\n",
      "Completed processing loc2_script5_seq5_rec1, total unique images: 3410.\n",
      "There are no record for 214-1 after 143497\n",
      "Completed processing loc4_script3_seq4_rec1, total unique images: 1464.\n",
      "There are no record for 214-1 after 601037\n",
      "Completed processing loc5_script4_seq4_rec1, total unique images: 6225.\n",
      "There are no record for 214-1 after 181383\n",
      "Completed processing loc4_script2_seq1_rec2, total unique images: 1850.\n",
      "There are no record for 214-1 after 276378\n",
      "Completed processing loc3_script4_seq5_rec1, total unique images: 2874.\n",
      "There are no record for 214-1 after 362151\n",
      "Completed processing loc4_script2_seq3_rec2, total unique images: 3694.\n",
      "There are no record for 214-1 after 156050\n",
      "Completed processing loc2_script2_seq3_rec2, total unique images: 1593.\n",
      "There are no record for 214-1 after 277754\n",
      "Completed processing loc1_script2_seq6_rec2, total unique images: 2842.\n",
      "There are no record for 214-1 after 244559\n",
      "Completed processing loc1_script5_seq3_rec1, total unique images: 2547.\n",
      "There are no record for 214-1 after 195162\n",
      "Completed processing loc3_script2_seq7_rec2, total unique images: 1997.\n",
      "There are no record for 214-1 after 302329\n",
      "Completed processing loc2_script1_seq5_rec1, total unique images: 3144.\n",
      "There are no record for 214-1 after 368326\n",
      "Completed processing loc1_script5_seq6_rec1, total unique images: 3836.\n",
      "There are no record for 214-1 after 263463\n",
      "Completed processing loc3_script2_seq5_rec2, total unique images: 2695.\n",
      "There are no record for 214-1 after 205517\n",
      "Completed processing loc3_script1_seq7_rec1, total unique images: 2137.\n",
      "There are no record for 214-1 after 246185\n",
      "Completed processing loc1_script2_seq6_rec1, total unique images: 2521.\n",
      "There are no record for 214-1 after 132791\n",
      "Completed processing loc1_script5_seq2_rec1, total unique images: 1383.\n",
      "There are no record for 214-1 after 411601\n",
      "Completed processing loc5_script4_seq6_rec1, total unique images: 4263.\n",
      "There are no record for 214-1 after 140895\n",
      "Completed processing loc2_script5_seq2_rec1, total unique images: 1466.\n",
      "There are no record for 214-1 after 172171\n",
      "Completed processing loc4_script2_seq2_rec1, total unique images: 1756.\n",
      "There are no record for 214-1 after 436597\n",
      "Completed processing loc2_script4_seq7_rec1, total unique images: 4537.\n",
      "There are no record for 214-1 after 239124\n",
      "Completed processing loc4_script1_seq6_rec1, total unique images: 2478.\n",
      "There are no record for 214-1 after 224331\n",
      "Completed processing loc2_script5_seq6_rec1, total unique images: 2334.\n",
      "There are no record for 214-1 after 325905\n",
      "Completed processing loc3_script4_seq7_rec1, total unique images: 3389.\n",
      "There are no record for 214-1 after 246157\n",
      "Completed processing loc4_script2_seq4_rec1, total unique images: 2511.\n",
      "There are no record for 214-1 after 993475\n",
      "Completed processing loc5_script4_seq5_rec1, total unique images: 10290.\n",
      "There are no record for 214-1 after 228726\n",
      "Completed processing loc3_script2_seq4_rec1, total unique images: 2340.\n",
      "There are no record for 214-1 after 303434\n",
      "Completed processing loc1_script1_seq6_rec1, total unique images: 3160.\n",
      "There are no record for 214-1 after 574356\n",
      "Completed processing loc2_script1_seq4_rec1, total unique images: 5973.\n",
      "There are no record for 214-1 after 235193\n",
      "Completed processing loc1_script2_seq1_rec1, total unique images: 2407.\n",
      "There are no record for 214-1 after 418636\n",
      "Completed processing loc1_script2_seq4_rec1, total unique images: 4284.\n",
      "There are no record for 214-1 after 292036\n",
      "Completed processing loc4_script1_seq5_rec1, total unique images: 3026.\n",
      "There are no record for 214-1 after 599833\n",
      "Completed processing loc3_script4_seq2_rec1, total unique images: 6237.\n",
      "There are no record for 214-1 after 127356\n",
      "Completed processing loc3_script3_seq1_rec2, total unique images: 1304.\n",
      "There are no record for 214-1 after 326847\n",
      "Completed processing loc5_script4_seq1_rec1, total unique images: 3385.\n",
      "There are no record for 214-1 after 184618\n",
      "Completed processing loc4_script4_seq2_rec1, total unique images: 1913.\n",
      "There are no record for 214-1 after 481092\n",
      "Completed processing loc1_script4_seq3_rec1, total unique images: 4997.\n",
      "There are no record for 214-1 after 103569\n",
      "Completed processing loc4_script5_seq1_rec1, total unique images: 1076.\n",
      "There are no record for 214-1 after 411400\n",
      "Completed processing loc2_script1_seq3_rec1, total unique images: 4278.\n",
      "There are no record for 214-1 after 490416\n",
      "Completed processing loc2_script3_seq4_rec1, total unique images: 5018.\n",
      "There are no record for 214-1 after 195351\n",
      "Completed processing loc2_script2_seq4_rec2, total unique images: 1999.\n",
      "There are no record for 214-1 after 373454\n",
      "Completed processing loc5_script5_seq4_rec1, total unique images: 3868.\n",
      "There are no record for 214-1 after 474087\n",
      "Completed processing loc2_script4_seq5_rec1, total unique images: 4927.\n",
      "There are no record for 214-1 after 1926060\n",
      "Completed processing loc2_script4_seq4_rec1, total unique images: 20016.\n",
      "There are no record for 214-1 after 290695\n",
      "Completed processing loc3_script1_seq1_rec1, total unique images: 3022.\n",
      "There are no record for 214-1 after 161620\n",
      "Completed processing loc2_script3_seq2_rec1, total unique images: 1655.\n",
      "There are no record for 214-1 after 383584\n",
      "Completed processing loc2_script1_seq6_rec1, total unique images: 3989.\n",
      "There are no record for 214-1 after 730119\n",
      "Completed processing loc5_script4_seq3_rec1, total unique images: 7562.\n",
      "There are no record for 214-1 after 438375\n",
      "Completed processing loc3_script1_seq2_rec1, total unique images: 4558.\n",
      "There are no record for 214-1 after 224117\n",
      "Completed processing loc3_script2_seq1_rec1, total unique images: 2293.\n",
      "There are no record for 214-1 after 448622\n",
      "Completed processing loc2_script3_seq5_rec2, total unique images: 4590.\n",
      "There are no record for 214-1 after 340179\n",
      "Completed processing loc3_script1_seq5_rec1, total unique images: 3537.\n",
      "There are no record for 214-1 after 383543\n",
      "Completed processing loc1_script2_seq3_rec1, total unique images: 3928.\n",
      "There are no record for 214-1 after 546041\n",
      "Completed processing loc3_script3_seq4_rec2, total unique images: 5586.\n",
      "There are no record for 214-1 after 1300911\n",
      "Completed processing loc2_script3_seq3_rec2, total unique images: 13326.\n",
      "There are no record for 214-1 after 206815\n",
      "Completed processing loc2_script1_seq7_rec1, total unique images: 2151.\n",
      "There are no record for 214-1 after 218586\n",
      "Completed processing loc4_script5_seq7_rec1, total unique images: 2271.\n",
      "There are no record for 214-1 after 128705\n",
      "Completed processing loc2_script2_seq6_rec2, total unique images: 1317.\n",
      "There are no record for 214-1 after 273248\n",
      "Completed processing loc3_script2_seq2_rec1, total unique images: 2796.\n",
      "There are no record for 214-1 after 161436\n",
      "Completed processing loc1_script3_seq2_rec1, total unique images: 1652.\n",
      "There are no record for 214-1 after 530171\n",
      "Completed processing loc5_script4_seq2_rec1, total unique images: 5491.\n",
      "There are no record for 214-1 after 895089\n",
      "Completed processing loc4_script3_seq3_rec1, total unique images: 9131.\n",
      "There are no record for 214-1 after 184428\n",
      "Completed processing loc2_script2_seq8_rec1, total unique images: 1887.\n",
      "There are no record for 214-1 after 482075\n",
      "Completed processing loc1_script4_seq5_rec1, total unique images: 5008.\n",
      "There are no record for 214-1 after 331973\n",
      "Completed processing loc3_script3_seq2_rec1, total unique images: 3396.\n",
      "There are no record for 214-1 after 124032\n",
      "Completed processing loc2_script2_seq6_rec1, total unique images: 1266.\n",
      "There are no record for 214-1 after 161950\n",
      "Completed processing loc2_script3_seq2_rec2, total unique images: 1657.\n",
      "There are no record for 214-1 after 468468\n",
      "Completed processing loc2_script3_seq5_rec1, total unique images: 4798.\n",
      "There are no record for 214-1 after 67041\n",
      "Completed processing loc2_script3_seq1_rec1, total unique images: 686.\n",
      "There are no record for 214-1 after 304988\n",
      "Completed processing loc3_script5_seq6_rec1, total unique images: 3171.\n",
      "There are no record for 214-1 after 374236\n",
      "Completed processing loc3_script3_seq5_rec1, total unique images: 3828.\n",
      "There are no record for 214-1 after 564915\n",
      "Completed processing loc1_script5_seq5_rec1, total unique images: 5884.\n",
      "There are no record for 214-1 after 405608\n",
      "Completed processing loc5_script5_seq3_rec1, total unique images: 4201.\n",
      "There are no record for 214-1 after 134645\n",
      "Completed processing loc3_script5_seq4_rec1, total unique images: 1400.\n",
      "There are no record for 214-1 after 1303418\n",
      "Completed processing loc2_script3_seq3_rec1, total unique images: 13337.\n",
      "There are no record for 214-1 after 216595\n",
      "Completed processing loc3_script5_seq3_rec1, total unique images: 2252.\n",
      "There are no record for 214-1 after 196659\n",
      "Completed processing loc3_script2_seq7_rec1, total unique images: 2012.\n",
      "There are no record for 214-1 after 608152\n",
      "Completed processing loc1_script1_seq1_rec1, total unique images: 6334.\n",
      "There are no record for 214-1 after 192647\n",
      "Completed processing loc3_script5_seq2_rec1, total unique images: 2003.\n",
      "There are no record for 214-1 after 819903\n",
      "Completed processing loc3_script1_seq4_rec1, total unique images: 8525.\n",
      "There are no record for 214-1 after 114104\n",
      "Completed processing loc4_script3_seq2_rec2, total unique images: 1164.\n",
      "There are no record for 214-1 after 72660\n",
      "Completed processing loc2_script3_seq1_rec2, total unique images: 744.\n",
      "There are no record for 214-1 after 317995\n",
      "Completed processing loc4_script1_seq1_rec1, total unique images: 3295.\n",
      "There are no record for 214-1 after 841933\n",
      "Completed processing loc5_script5_seq6_rec1, total unique images: 8721.\n",
      "There are no record for 214-1 after 167175\n",
      "Completed processing loc3_script5_seq1_rec1, total unique images: 1738.\n",
      "There are no record for 214-1 after 130502\n",
      "Completed processing loc1_script3_seq1_rec1, total unique images: 1336.\n",
      "There are no record for 214-1 after 157051\n",
      "Completed processing loc2_script2_seq3_rec1, total unique images: 1607.\n",
      "There are no record for 214-1 after 847156\n",
      "Completed processing loc5_script5_seq5_rec1, total unique images: 8775.\n",
      "There are no record for 214-1 after 503512\n",
      "Completed processing loc3_script1_seq3_rec1, total unique images: 5235.\n",
      "There are no record for 214-1 after 92350\n",
      "Completed processing loc1_script5_seq1_rec1, total unique images: 962.\n",
      "There are no record for 214-1 after 392738\n",
      "Completed processing loc3_script4_seq3_rec1, total unique images: 4084.\n",
      "There are no record for 214-1 after 263247\n",
      "Completed processing loc2_script2_seq1_rec1, total unique images: 2687.\n",
      "There are no record for 214-1 after 227228\n",
      "Completed processing loc2_script5_seq1_rec1, total unique images: 2361.\n",
      "There are no record for 214-1 after 234303\n",
      "Completed processing loc1_script2_seq1_rec2, total unique images: 2400.\n",
      "There are no record for 214-1 after 315542\n",
      "Completed processing loc5_script5_seq2_rec1, total unique images: 3268.\n",
      "There are no record for 214-1 after 119001\n",
      "Completed processing loc4_script2_seq8_rec2, total unique images: 1214.\n"
     ]
    }
   ],
   "source": [
    "for vrs_file in vrs_files:\n",
    "    sequence_name = os.path.basename(os.path.dirname(vrs_file))\n",
    "    output_dir = os.path.join(output_base_dir, sequence_name)\n",
    "    os.makedirs(output_dir, exist_ok=True)\n",
    "\n",
    "    reader = SyncVRSReader(vrs_file)\n",
    "    stream_id = '214-1'\n",
    "    last_unique_timestamp = None\n",
    "    record_index = 0\n",
    "    image_count = 0\n",
    "\n",
    "    while True:\n",
    "        record = reader.read_next_record(stream_id, 'data', record_index)\n",
    "        if record is None:\n",
    "            break  # End of data stream\n",
    "\n",
    "        current_timestamp = record.timestamp\n",
    "        if current_timestamp == last_unique_timestamp:\n",
    "            # This is a duplicate timestamp; skip to the next record\n",
    "            record_index += 1\n",
    "            continue\n",
    "\n",
    "        # New unique timestamp found; update tracking variable\n",
    "        last_unique_timestamp = current_timestamp\n",
    "\n",
    "        # Process the record's image data\n",
    "        image_blocks = record.image_blocks\n",
    "        if image_blocks:\n",
    "            output_file_path = os.path.join(output_dir, f\"{sequence_name}_image_{image_count:06}.jpg\")\n",
    "            with open(output_file_path, 'wb') as f:\n",
    "                image_blocks[0].tofile(f)  # Assuming the first block is the target\n",
    "            image_count += 1\n",
    "\n",
    "        record_index += 1\n",
    "\n",
    "    print(f\"Completed processing {sequence_name}, total unique images: {image_count}.\")"
   ]
  },
  {
   "cell_type": "code",
   "execution_count": 5,
   "id": "aae4a6ca-b243-4733-998e-31cb042ce78d",
   "metadata": {},
   "outputs": [],
   "source": [
    "from datasets import load_dataset"
   ]
  },
  {
   "cell_type": "code",
   "execution_count": 6,
   "id": "5aa6357f-3269-4b6a-b9e1-00e651c25e3f",
   "metadata": {},
   "outputs": [
    {
     "data": {
      "application/vnd.jupyter.widget-view+json": {
       "model_id": "d0c6b1ae34734e08b636938b49c83e79",
       "version_major": 2,
       "version_minor": 0
      },
      "text/plain": [
       "Resolving data files:   0%|          | 0/519837 [00:00<?, ?it/s]"
      ]
     },
     "metadata": {},
     "output_type": "display_data"
    },
    {
     "data": {
      "application/vnd.jupyter.widget-view+json": {
       "model_id": "7c60d739d28841738bd978334656330a",
       "version_major": 2,
       "version_minor": 0
      },
      "text/plain": [
       "Generating train split: 0 examples [00:00, ? examples/s]"
      ]
     },
     "metadata": {},
     "output_type": "display_data"
    }
   ],
   "source": [
    "dataset = load_dataset(\"imagefolder\", data_dir=\"aea_main_rgb\")"
   ]
  },
  {
   "cell_type": "code",
   "execution_count": 33,
   "id": "7613a3fe-233b-4e6f-a243-62205cce266e",
   "metadata": {},
   "outputs": [],
   "source": [
    "z = 0\n",
    "for i in range(0,510000,20):\n",
    "    z+=1"
   ]
  },
  {
   "cell_type": "code",
   "execution_count": null,
   "id": "55c2866f-3b02-4295-aadd-ed5763f7c687",
   "metadata": {},
   "outputs": [
    {
     "data": {
      "application/vnd.jupyter.widget-view+json": {
       "model_id": "bd7195903ec04ecead0c08805d73a109",
       "version_major": 2,
       "version_minor": 0
      },
      "text/plain": [
       "Uploading the dataset shards:   0%|          | 0/23 [00:00<?, ?it/s]"
      ]
     },
     "metadata": {},
     "output_type": "display_data"
    },
    {
     "data": {
      "application/vnd.jupyter.widget-view+json": {
       "model_id": "3f0b95107f0c4ac98e695dce73e083ca",
       "version_major": 2,
       "version_minor": 0
      },
      "text/plain": [
       "Map:   0%|          | 0/1109 [00:00<?, ? examples/s]"
      ]
     },
     "metadata": {},
     "output_type": "display_data"
    },
    {
     "data": {
      "application/vnd.jupyter.widget-view+json": {
       "model_id": "aa65ea9ce7824b80b287623d699967ed",
       "version_major": 2,
       "version_minor": 0
      },
      "text/plain": [
       "Creating parquet from Arrow format:   0%|          | 0/12 [00:00<?, ?ba/s]"
      ]
     },
     "metadata": {},
     "output_type": "display_data"
    },
    {
     "data": {
      "application/vnd.jupyter.widget-view+json": {
       "model_id": "67fd9378dff74f94a2cff531a164467f",
       "version_major": 2,
       "version_minor": 0
      },
      "text/plain": [
       "Map:   0%|          | 0/1109 [00:00<?, ? examples/s]"
      ]
     },
     "metadata": {},
     "output_type": "display_data"
    },
    {
     "data": {
      "application/vnd.jupyter.widget-view+json": {
       "model_id": "5097ad9b7ff54be4896a0e9e8d53d7d8",
       "version_major": 2,
       "version_minor": 0
      },
      "text/plain": [
       "Creating parquet from Arrow format:   0%|          | 0/12 [00:00<?, ?ba/s]"
      ]
     },
     "metadata": {},
     "output_type": "display_data"
    },
    {
     "data": {
      "application/vnd.jupyter.widget-view+json": {
       "model_id": "9ebfbe48d1e14b2a9bb7e0c19df84f46",
       "version_major": 2,
       "version_minor": 0
      },
      "text/plain": [
       "Map:   0%|          | 0/1109 [00:00<?, ? examples/s]"
      ]
     },
     "metadata": {},
     "output_type": "display_data"
    }
   ],
   "source": [
    "dataset['train'].select(range(0,510000,20)).push_to_hub(\"danjacobellis/aria_ea_rgb_25k\",split=\"train\")"
   ]
  }
 ],
 "metadata": {
  "kernelspec": {
   "display_name": "Python 3 (ipykernel)",
   "language": "python",
   "name": "python3"
  },
  "language_info": {
   "codemirror_mode": {
    "name": "ipython",
    "version": 3
   },
   "file_extension": ".py",
   "mimetype": "text/x-python",
   "name": "python",
   "nbconvert_exporter": "python",
   "pygments_lexer": "ipython3",
   "version": "3.10.12"
  }
 },
 "nbformat": 4,
 "nbformat_minor": 5
}
