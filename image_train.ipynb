{
 "cells": [
  {
   "cell_type": "code",
   "execution_count": 1,
   "id": "99e31f8d-0570-4531-ba21-312486439342",
   "metadata": {},
   "outputs": [
    {
     "name": "stderr",
     "output_type": "stream",
     "text": [
      "/home/dgj335/.local/lib/python3.10/site-packages/tqdm/auto.py:21: TqdmWarning: IProgress not found. Please update jupyter and ipywidgets. See https://ipywidgets.readthedocs.io/en/stable/user_install.html\n",
      "  from .autonotebook import tqdm as notebook_tqdm\n"
     ]
    }
   ],
   "source": [
    "import math\n",
    "import PIL.Image as Image\n",
    "import numpy as np\n",
    "import matplotlib.pyplot as plt\n",
    "import torch\n",
    "import torch.nn as nn\n",
    "import torch.nn.functional as F\n",
    "import torch.optim as optim\n",
    "import IPython.display as disp\n",
    "from torch.utils.data import DataLoader\n",
    "from datasets import load_dataset\n",
    "from torchvision import transforms\n",
    "from compressai.models import CompressionModel\n",
    "from compressai.entropy_models import EntropyBottleneck\n",
    "from compressai.models.utils import conv, deconv\n",
    "from compressai.layers import GDN"
   ]
  },
  {
   "cell_type": "code",
   "execution_count": 2,
   "id": "6791f053-381e-4a7b-b8c2-a35d19c2d187",
   "metadata": {},
   "outputs": [],
   "source": [
    "dataset = load_dataset(\"danjacobellis/aria_ea_rgb_25k\", split=\"train\").with_format(\"torch\")"
   ]
  },
  {
   "cell_type": "code",
   "execution_count": 3,
   "id": "feb4a040-512a-4668-89f8-febe3001abc6",
   "metadata": {},
   "outputs": [],
   "source": [
    "class RateDistortionAutoEncoder(CompressionModel):\n",
    "    def __init__(self, N=128):\n",
    "        super().__init__()\n",
    "        self.entropy_bottleneck = EntropyBottleneck(N)\n",
    "        self.encode = nn.Sequential(\n",
    "            conv(3, N),\n",
    "            GDN(N),\n",
    "            conv(N, N),\n",
    "            GDN(N),\n",
    "            conv(N, N),\n",
    "        )\n",
    "\n",
    "        self.decode = nn.Sequential(\n",
    "            deconv(N, N),\n",
    "            GDN(N, inverse=True),\n",
    "            deconv(N, N),\n",
    "            GDN(N, inverse=True),\n",
    "            deconv(N, 3),\n",
    "        )\n",
    "\n",
    "    def forward(self, x):\n",
    "        y = self.encode(x)\n",
    "        y_hat, y_likelihoods = self.entropy_bottleneck(y)\n",
    "        x_hat = self.decode(y_hat)\n",
    "        return x_hat, y_likelihoods"
   ]
  },
  {
   "cell_type": "code",
   "execution_count": 4,
   "id": "c5ce47b4-66be-49ec-8426-7ffb31e5db79",
   "metadata": {},
   "outputs": [],
   "source": [
    "def live_plot(x):\n",
    "    plt.clf()\n",
    "    plt.plot(x)\n",
    "    disp.display(plt.gcf())\n",
    "    disp.clear_output(wait=True)"
   ]
  },
  {
   "cell_type": "code",
   "execution_count": 5,
   "id": "b959bb0f-ed7d-47b9-95e0-1f3397f4df1d",
   "metadata": {},
   "outputs": [],
   "source": [
    "net = RateDistortionAutoEncoder().to(\"cuda\")\n",
    "parameters = set(p for n, p in net.named_parameters() if not n.endswith(\".quantiles\"))\n",
    "aux_parameters = set(p for n, p in net.named_parameters() if n.endswith(\".quantiles\"))\n",
    "optimizer = optim.Adam(parameters, lr=1e-4)\n",
    "aux_optimizer = optim.Adam(aux_parameters, lr=1e-3)\n",
    "λ = 0.01"
   ]
  },
  {
   "cell_type": "code",
   "execution_count": null,
   "id": "495af36d-e492-48b2-ba30-47519f76f6f3",
   "metadata": {},
   "outputs": [
    {
     "data": {
      "image/png": "[encoded data removed]",
      "text/plain": [
       "<Figure size 640x480 with 1 Axes>"
      ]
     },
     "metadata": {},
     "output_type": "display_data"
    }
   ],
   "source": [
    "rate = np.array([])\n",
    "distortion = np.array([])\n",
    "for i_epoch in range(5):\n",
    "    dataloader = DataLoader(dataset, batch_size=4, shuffle=True)\n",
    "    for i,batch in enumerate(dataloader):\n",
    "        optimizer.zero_grad()\n",
    "        aux_optimizer.zero_grad()\n",
    "    \n",
    "        x = batch['image'].to(\"cuda\")\n",
    "        x = x.to(torch.float)\n",
    "        x = x/255\n",
    "        x = x - 0.5\n",
    "        x = x.permute(0, 3, 1, 2)\n",
    "        \n",
    "        x_hat, y_likelihoods = net(x)\n",
    "        \n",
    "        # bitrate of the quantized latent\n",
    "        N, _, H, W = x.size()\n",
    "        num_pixels = N * H * W\n",
    "        bpp_loss = torch.log(y_likelihoods).sum() / (-math.log(2) * num_pixels)\n",
    "        rate = np.append(rate,bpp_loss.detach().cpu().numpy())\n",
    "        \n",
    "        # mean square error\n",
    "        mse_loss = F.mse_loss(x, x_hat)\n",
    "        distortion = np.append(distortion,mse_loss.detach().cpu().numpy())\n",
    "        \n",
    "        # final loss term\n",
    "        loss = mse_loss + λ * bpp_loss\n",
    "        \n",
    "        loss.backward()\n",
    "        optimizer.step()\n",
    "        \n",
    "        aux_loss = net.aux_loss()\n",
    "        aux_loss.backward()\n",
    "        aux_optimizer.step()\n",
    "\n",
    "        torch.save({\n",
    "                'epoch': i,\n",
    "                'model_state_dict': net.state_dict(),\n",
    "                'optimizer_state_dict': optimizer.state_dict(),\n",
    "                'aux_optimizer_state_dict': aux_optimizer.state_dict(),\n",
    "                'loss': loss,\n",
    "            }, f\"checkpoint.pth\")\n",
    "        live_plot(rate)\n",
    "        np.save('rate',rate)\n",
    "        np.save('distortion',distortion)"
   ]
  }
 ],
 "metadata": {
  "kernelspec": {
   "display_name": "Python 3 (ipykernel)",
   "language": "python",
   "name": "python3"
  },
  "language_info": {
   "codemirror_mode": {
    "name": "ipython",
    "version": 3
   },
   "file_extension": ".py",
   "mimetype": "text/x-python",
   "name": "python",
   "nbconvert_exporter": "python",
   "pygments_lexer": "ipython3",
   "version": "3.10.12"
  }
 },
 "nbformat": 4,
 "nbformat_minor": 5
}
