{
 "cells": [
  {
   "cell_type": "code",
   "execution_count": 1,
   "id": "74b1a608-ea90-4fa4-95f6-0fd5af9af02f",
   "metadata": {},
   "outputs": [
    {
     "name": "stderr",
     "output_type": "stream",
     "text": [
      "/home/dgj335/.local/lib/python3.10/site-packages/beartype/_util/error/utilerrwarn.py:67: BeartypeModuleUnimportableWarning: Ignoring module \"onnx\" importation exception:\n",
      "    ImportError: cannot import name 'builder' from 'google.protobuf.internal' (/home/dgj335/.local/lib/python3.10/site-packages/google/protobuf/internal/__init__.py)\n",
      "  warn(message, cls)\n",
      "/home/dgj335/.local/lib/python3.10/site-packages/beartype/_util/error/utilerrwarn.py:67: BeartypeModuleUnimportableWarning: Ignoring module \"onnx\" importation exception:\n",
      "    ImportError: cannot import name 'builder' from 'google.protobuf.internal' (/home/dgj335/.local/lib/python3.10/site-packages/google/protobuf/internal/__init__.py)\n",
      "  warn(message, cls)\n",
      "/home/dgj335/.local/lib/python3.10/site-packages/beartype/_util/error/utilerrwarn.py:67: BeartypeModuleUnimportableWarning: Ignoring module \"onnx\" importation exception:\n",
      "    ImportError: cannot import name 'builder' from 'google.protobuf.internal' (/home/dgj335/.local/lib/python3.10/site-packages/google/protobuf/internal/__init__.py)\n",
      "  warn(message, cls)\n"
     ]
    }
   ],
   "source": [
    "import numpy as np\n",
    "import torch\n",
    "import torch.nn.functional as F\n",
    "import torch.optim as optim\n",
    "from IPython.display import display, clear_output, Audio\n",
    "from torch.utils.data import DataLoader\n",
    "from datasets import load_dataset\n",
    "from dance.audio import RateDistortionAutoEncoder\n",
    "import fastprogress\n",
    "from fastprogress.fastprogress import master_bar, progress_bar\n",
    "import matplotlib.pyplot as plt\n",
    "from ipywidgets import Output"
   ]
  },
  {
   "cell_type": "code",
   "execution_count": null,
   "id": "36d3ccf1-762e-42f9-97b3-331611544fa1",
   "metadata": {},
   "outputs": [
    {
     "data": {
      "application/vnd.jupyter.widget-view+json": {
       "model_id": "77ae1ccac3724d4980fe5c8f6fabcf2a",
       "version_major": 2,
       "version_minor": 0
      },
      "text/plain": [
       "Resolving data files:   0%|          | 0/32 [00:00<?, ?it/s]"
      ]
     },
     "metadata": {},
     "output_type": "display_data"
    }
   ],
   "source": [
    "train_dataset = load_dataset(\"danjacobellis/aria_ea_audio_preprocessed\",split=\"train\").with_format(\"torch\")\n",
    "valid_dataset = load_dataset(\"danjacobellis/aria_ea_audio_preprocessed\",split=\"validation\").with_format(\"torch\")"
   ]
  },
  {
   "cell_type": "code",
   "execution_count": null,
   "id": "c00f0bdf-8b11-4826-b12d-890d5a72e324",
   "metadata": {},
   "outputs": [],
   "source": [
    "test_sample = valid_dataset[10]['audio'].unsqueeze(0)\n",
    "test_input = test_sample.permute(0,2,1).to(\"cuda\")\n",
    "Audio(test_sample[0,:,0],rate=48000)"
   ]
  },
  {
   "cell_type": "code",
   "execution_count": null,
   "id": "858d34f6-e442-4ad5-9b25-fd49cb1c013d",
   "metadata": {},
   "outputs": [],
   "source": [
    "plt.plot(test_sample[0,0:1000,[0,6]])"
   ]
  },
  {
   "cell_type": "code",
   "execution_count": null,
   "id": "d11791ad-0ce2-4db2-b2c2-83a299a2619a",
   "metadata": {},
   "outputs": [],
   "source": [
    "model = RateDistortionAutoEncoder().to(\"cuda\")\n",
    "parameters = set(p for n, p in model.named_parameters() if not n.endswith(\".quantiles\"))\n",
    "aux_parameters = set(p for n, p in model.named_parameters() if n.endswith(\".quantiles\"))\n",
    "optimizer = optim.AdamW(parameters, lr=1e-4)\n",
    "aux_optimizer = optim.AdamW(aux_parameters, lr=1e-3)\n",
    "λ = 0.01"
   ]
  },
  {
   "cell_type": "code",
   "execution_count": null,
   "id": "03b911f1-ed15-48e2-ae5e-47e2d1703b19",
   "metadata": {},
   "outputs": [],
   "source": [
    "epochs = 5\n",
    "mb = master_bar(range(epochs))\n",
    "mb.names = ['Distortion Loss', 'Rate Loss']\n",
    "dist_losses, rate_losses = [], []\n",
    "output_plot = Output()\n",
    "display(output_plot)\n",
    "model.train()\n",
    "\n",
    "desired_batch_size = 24\n",
    "actual_batch_size = 6\n",
    "accumulation_steps = desired_batch_size // actual_batch_size\n",
    "\n",
    "for i_epoch in mb:\n",
    "    dataloader = DataLoader(train_dataset, batch_size=actual_batch_size, shuffle=True, drop_last=True, num_workers=6)\n",
    "    \n",
    "    for i, batch in enumerate(progress_bar(dataloader, parent=mb)):\n",
    "        x = batch['audio'].permute(0,2,1).to(\"cuda\").to(torch.float)        \n",
    "        x_hat, y_likelihoods = model(x)\n",
    "        N, _, L = x.size()\n",
    "        num_samples = N * L\n",
    "        rate_loss = torch.log(y_likelihoods).sum() / (-torch.log(torch.tensor(2)) * num_samples)\n",
    "        dist_loss = F.mse_loss(x, x_hat)\n",
    "        loss = dist_loss +  λ * rate_loss\n",
    "\n",
    "        loss.backward()\n",
    "        model.aux_loss().backward()\n",
    "        if (i + 1) % accumulation_steps == 0: \n",
    "            optimizer.step()\n",
    "            aux_optimizer.step()\n",
    "            optimizer.zero_grad()\n",
    "            aux_optimizer.zero_grad()\n",
    "\n",
    "        dist_losses.append(np.log10(dist_loss.item()))\n",
    "        rate_losses.append(np.log10(rate_loss.item()))\n",
    "        \n",
    "        if (i + 1) % accumulation_steps == 0:\n",
    "            \n",
    "            mb.update_graph(\n",
    "                [[range(len(dist_losses)), dist_losses], [range(len(rate_losses)), rate_losses]],\n",
    "                [0, i_epoch*len(dataloader)+i+1],\n",
    "                [min(min(dist_losses), min(rate_losses)), max(max(dist_losses), max(rate_losses))]\n",
    "            )\n",
    "            with torch.no_grad():\n",
    "                test_output = model.decode(model.encode(test_input).round())\n",
    "                test_output = test_output.permute(0,2,1).cpu()\n",
    "\n",
    "            with output_plot:\n",
    "                output_plot.clear_output(wait=True)\n",
    "                plt.figure(figsize=(16, 6),dpi=100)\n",
    "                plt.plot(test_sample[0,39500:40000,0].numpy(), color='blue')\n",
    "                plt.plot(test_sample[0,39500:40000,6].numpy(), color='red')\n",
    "                plt.plot(test_output[0,39500:40000,0].numpy(), color='green',alpha=0.7)\n",
    "                plt.plot(test_output[0,39500:40000,6].numpy(), color='purple',alpha=0.7)\n",
    "                plt.show()"
   ]
  }
 ],
 "metadata": {
  "kernelspec": {
   "display_name": "Python 3 (ipykernel)",
   "language": "python",
   "name": "python3"
  },
  "language_info": {
   "codemirror_mode": {
    "name": "ipython",
    "version": 3
   },
   "file_extension": ".py",
   "mimetype": "text/x-python",
   "name": "python",
   "nbconvert_exporter": "python",
   "pygments_lexer": "ipython3",
   "version": "3.10.12"
  }
 },
 "nbformat": 4,
 "nbformat_minor": 5
}
