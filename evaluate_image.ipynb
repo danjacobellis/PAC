{
 "cells": [
  {
   "cell_type": "code",
   "execution_count": 1,
   "id": "07c1a02d-6d55-4fa0-810c-350872f27ac9",
   "metadata": {},
   "outputs": [],
   "source": [
    "import torch\n",
    "from datasets import load_dataset"
   ]
  },
  {
   "cell_type": "code",
   "execution_count": 2,
   "id": "70c3b024-2dae-4695-a1b7-a7198bfd7633",
   "metadata": {},
   "outputs": [],
   "source": [
    "dataset = load_dataset(\"danjacobellis/aria_compression\",split=\"validation\").with_format(\"torch\")"
   ]
  },
  {
   "cell_type": "code",
   "execution_count": 3,
   "id": "164e0541-123a-458a-9623-6bc4a6502733",
   "metadata": {},
   "outputs": [],
   "source": [
    "classes = [k for k in dataset.features.keys()][3:16]\n",
    "lossless = torch.cat(         [dataset[c].unsqueeze(0) for c in classes]).permute(1,0)\n",
    "jpeg =     torch.cat( [dataset[\"jpeg_\"+c].unsqueeze(0) for c in classes]).permute(1,0)\n",
    "dance =    torch.cat([dataset[\"dance_\"+c].unsqueeze(0) for c in classes]).permute(1,0)\n",
    "dgml =     torch.cat( [dataset[\"dgml_\"+c].unsqueeze(0) for c in classes]).permute(1,0)"
   ]
  },
  {
   "cell_type": "code",
   "execution_count": 4,
   "id": "bd309710-7be1-48c2-9bf5-dba0a90609bb",
   "metadata": {},
   "outputs": [],
   "source": [
    "jpeg_correct = 0\n",
    "dance_correct = 0\n",
    "dgml_correct = 0\n",
    "for i_img, c in enumerate(lossless):\n",
    "    if c.max()>18:\n",
    "        if c.argmax() == jpeg[i_img].argmax():\n",
    "            jpeg_correct+=1\n",
    "        if c.argmax() == dance[i_img].argmax():\n",
    "            dance_correct+=1\n",
    "        if c.argmax() == dgml[i_img].argmax():\n",
    "            dgml_correct+=1"
   ]
  },
  {
   "cell_type": "code",
   "execution_count": 5,
   "id": "29976134-63b8-4cfb-8e59-a05ff4a09ae8",
   "metadata": {},
   "outputs": [
    {
     "name": "stdout",
     "output_type": "stream",
     "text": [
      "JPEG Compression Ratio:  760.0725503474475\n",
      "Dance Compression Ratio:  783.7686980897553\n",
      "Cheng2020 Compression Ratio:  408.89172166463516\n"
     ]
    }
   ],
   "source": [
    "jpeg_cr = 24/dataset['jpeg_bpp'].mean().item()\n",
    "dance_cr = 24/dataset['dance_bpp'].mean().item()\n",
    "dgml_cr = 24/dataset['dgml_bpp'].mean().item()\n",
    "print(\"JPEG Compression Ratio: \", jpeg_cr)\n",
    "print(\"Dance Compression Ratio: \", dance_cr)\n",
    "print(\"Cheng2020 Compression Ratio: \", dgml_cr)"
   ]
  },
  {
   "cell_type": "code",
   "execution_count": 6,
   "id": "a45b435a-9fa8-402b-9913-141cad81b63c",
   "metadata": {},
   "outputs": [
    {
     "name": "stdout",
     "output_type": "stream",
     "text": [
      "JPEG Accuracy:  0.2723\n",
      "Dance Accuracy:  0.51865\n",
      "Cheng2020 Accuracy:  0.56775\n"
     ]
    }
   ],
   "source": [
    "jpeg_acc = jpeg_correct/dataset.num_rows\n",
    "dance_acc = dance_correct/dataset.num_rows\n",
    "dgml_acc = dgml_correct/dataset.num_rows\n",
    "print(\"JPEG Accuracy: \", jpeg_acc)\n",
    "print(\"Dance Accuracy: \", dance_acc)\n",
    "print(\"Cheng2020 Accuracy: \", dgml_acc)"
   ]
  }
 ],
 "metadata": {
  "kernelspec": {
   "display_name": "Python 3 (ipykernel)",
   "language": "python",
   "name": "python3"
  },
  "language_info": {
   "codemirror_mode": {
    "name": "ipython",
    "version": 3
   },
   "file_extension": ".py",
   "mimetype": "text/x-python",
   "name": "python",
   "nbconvert_exporter": "python",
   "pygments_lexer": "ipython3",
   "version": "3.10.12"
  }
 },
 "nbformat": 4,
 "nbformat_minor": 5
}
